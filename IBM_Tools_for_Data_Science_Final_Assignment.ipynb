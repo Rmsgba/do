{
 "cells": [
  {
   "cell_type": "markdown",
   "id": "9541d332",
   "metadata": {},
   "source": [
    "# Tools for Data Science Final Assignment"
   ]
  },
  {
   "cell_type": "markdown",
   "id": "cc12ec56",
   "metadata": {},
   "source": [
    "## Introduction\n",
    "This notebook is created as part of the final assignment for the IBM Tools for Data Science course.  \n",
    "It demonstrates basic Markdown formatting and Python code execution in Jupyter Notebook."
   ]
  },
  {
   "cell_type": "markdown",
   "id": "d8713fd2",
   "metadata": {},
   "source": [
    "## Data Science Languages\n",
    "Some of the popular languages used by data scientists are:\n",
    "1. Python  \n",
    "2. R  \n",
    "3. SQL  \n",
    "4. Julia  \n",
    "5. Scala"
   ]
  },
  {
   "cell_type": "markdown",
   "id": "c988d829",
   "metadata": {},
   "source": [
    "## Data Science Libraries\n",
    "Commonly used libraries in data science include:\n",
    "- Pandas  \n",
    "- NumPy  \n",
    "- Matplotlib  \n",
    "- Scikit-learn  \n",
    "- TensorFlow  \n",
    "- PyTorch"
   ]
  },
  {
   "cell_type": "markdown",
   "id": "8db77ac2",
   "metadata": {},
   "source": [
    "## Data Science Tools\n",
    "\n",
    "| Tool | Category | Description |\n",
    "|------|-----------|-------------|\n",
    "| Jupyter Notebook | IDE | Interactive environment for coding and analysis |\n",
    "| RStudio | IDE | Development environment for R programming |\n",
    "| Apache Spark | Framework | Distributed processing for big data |\n",
    "| TensorFlow | Library | Deep learning framework |\n",
    "| Power BI | Visualization | Business intelligence visualization tool |"
   ]
  },
  {
   "cell_type": "markdown",
   "id": "6976771f",
   "metadata": {},
   "source": [
    "## Examples of Arithmetic Expressions\n",
    "Below are examples of simple arithmetic operations using Python."
   ]
  },
  {
   "cell_type": "code",
   "execution_count": 1,
   "id": "5f9cf94d",
   "metadata": {},
   "outputs": [
    {
     "data": {
      "text/plain": [
       "25"
      ]
     },
     "execution_count": 1,
     "metadata": {},
     "output_type": "execute_result"
    }
   ],
   "source": [
    "# Multiply and add numbers\n",
    "a = 5\n",
    "b = 3\n",
    "result = (a * b) + 10\n",
    "result"
   ]
  },
  {
   "cell_type": "code",
   "execution_count": 2,
   "id": "cfed2cf0",
   "metadata": {},
   "outputs": [
    {
     "data": {
      "text/plain": [
       "2.5"
      ]
     },
     "execution_count": 2,
     "metadata": {},
     "output_type": "execute_result"
    }
   ],
   "source": [
    "# Convert minutes to hours\n",
    "minutes = 150\n",
    "hours = minutes / 60\n",
    "hours"
   ]
  },
  {
   "cell_type": "markdown",
   "id": "98111867",
   "metadata": {},
   "source": [
    "## Objectives\n",
    "After completing this notebook, you will be able to:\n",
    "- Use Markdown effectively in Jupyter Notebook  \n",
    "- Perform basic Python arithmetic operations  \n",
    "- Create tables in Markdown  \n",
    "- Convert values using Python code  \n",
    "- Share notebooks publicly via GitHub"
   ]
  },
  {
   "cell_type": "markdown",
   "id": "7db0fc60",
   "metadata": {},
   "source": [
    "## Author\n",
    "**Name:** Rehan Masood"
   ]
  },
  {
   "cell_type": "code",
   "execution_count": null,
   "id": "09464f60-7101-4fad-bf5c-d5e41241c755",
   "metadata": {},
   "outputs": [],
   "source": []
  }
 ],
 "metadata": {
  "kernelspec": {
   "display_name": "Python 3 (ipykernel)",
   "language": "python",
   "name": "python3"
  },
  "language_info": {
   "codemirror_mode": {
    "name": "ipython",
    "version": 3
   },
   "file_extension": ".py",
   "mimetype": "text/x-python",
   "name": "python",
   "nbconvert_exporter": "python",
   "pygments_lexer": "ipython3",
   "version": "3.13.7"
  }
 },
 "nbformat": 4,
 "nbformat_minor": 5
}
